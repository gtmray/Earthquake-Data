{
  "nbformat": 4,
  "nbformat_minor": 0,
  "metadata": {
    "colab": {
      "name": "Logistic Regression Scratch.ipynb",
      "provenance": [],
      "authorship_tag": "ABX9TyNK5wqYkgVgfFNSJQ7qWtM3",
      "include_colab_link": true
    },
    "kernelspec": {
      "name": "python3",
      "display_name": "Python 3"
    }
  },
  "cells": [
    {
      "cell_type": "markdown",
      "metadata": {
        "id": "view-in-github",
        "colab_type": "text"
      },
      "source": [
        "<a href=\"https://colab.research.google.com/github/gtmray/Earthquake-Data/blob/master/Earthquake_Logistic.ipynb\" target=\"_parent\"><img src=\"https://colab.research.google.com/assets/colab-badge.svg\" alt=\"Open In Colab\"/></a>"
      ]
    },
    {
      "cell_type": "code",
      "metadata": {
        "id": "9uRTh5I8U7xT",
        "colab_type": "code",
        "colab": {
          "base_uri": "https://localhost:8080/",
          "height": 543
        },
        "outputId": "e9feb073-fe64-4ef9-eddd-3d82871f00d0"
      },
      "source": [
        "import numpy as np\n",
        "import pandas as pd\n",
        "from sklearn.linear_model import LogisticRegression\n",
        "from sklearn.model_selection import train_test_split\n",
        "from sklearn.preprocessing import OneHotEncoder\n",
        "import matplotlib.pyplot as plt\n",
        "from  sklearn.metrics import confusion_matrix\n",
        "from sklearn.preprocessing import StandardScaler\n",
        "import seaborn as sns\n",
        "\n",
        "sns.set()\n",
        "pd.set_option('display.max_columns', 5)\n",
        "plt.style.use('ggplot')\n",
        "\n",
        "df_x_train = pd.read_csv('https://raw.githubusercontent.com/gtmray/Earthquake-Data/master/train_values.csv')\n",
        "df_y_train = pd.read_csv('https://raw.githubusercontent.com/gtmray/Earthquake-Data/master/train_labels.csv')\n",
        "df = pd.merge(df_x_train, df_y_train, on='building_id')\n",
        "\n",
        "list_convert = ['has_superstructure_adobe_mud',\n",
        "       'has_superstructure_mud_mortar_stone', 'has_superstructure_stone_flag',\n",
        "       'has_superstructure_cement_mortar_stone',\n",
        "       'has_superstructure_mud_mortar_brick',\n",
        "       'has_superstructure_cement_mortar_brick', 'has_superstructure_timber',\n",
        "       'has_superstructure_bamboo', 'has_superstructure_rc_non_engineered',\n",
        "       'has_superstructure_rc_engineered', 'has_superstructure_other', 'has_secondary_use',\n",
        "       'has_secondary_use_agriculture', 'has_secondary_use_hotel',\n",
        "       'has_secondary_use_rental', 'has_secondary_use_institution',\n",
        "       'has_secondary_use_school', 'has_secondary_use_industry',\n",
        "       'has_secondary_use_health_post', 'has_secondary_use_gov_office',\n",
        "       'has_secondary_use_use_police', 'has_secondary_use_other']\n",
        "\n",
        "df[list_convert] = df[list_convert].astype('uint8')\n",
        "df_y_train['damage_grade'] = df_y_train['damage_grade'].astype('category')\n",
        "\n",
        "print(df.columns)\n",
        "X = df.iloc[:, :-1]\n",
        "y = df['damage_grade']\n",
        "\n",
        "list_objects = ['land_surface_condition', 'foundation_type', 'roof_type',\n",
        "       'ground_floor_type', 'other_floor_type', 'position',\n",
        "       'plan_configuration', 'legal_ownership_status']\n",
        "df1 = pd.get_dummies(X[list_objects], drop_first=False)\n",
        "X = pd.concat([X, df1], axis=1)\n",
        "X.drop(list_objects, axis=1, inplace=True)\n",
        "\n",
        "y[y<2] = 0\n",
        "y[y>=2] = 1\n",
        "X.drop(['building_id', 'geo_level_1_id', 'geo_level_2_id', 'geo_level_3_id'], axis=1, inplace=True)\n",
        "scaler = StandardScaler()\n",
        "X = scaler.fit_transform(X)\n",
        "X_train, X_test, y_train, y_test = train_test_split(X, y, test_size=0.2, random_state=42)"
      ],
      "execution_count": 8,
      "outputs": [
        {
          "output_type": "stream",
          "text": [
            "Index(['building_id', 'geo_level_1_id', 'geo_level_2_id', 'geo_level_3_id',\n",
            "       'count_floors_pre_eq', 'age', 'area_percentage', 'height_percentage',\n",
            "       'land_surface_condition', 'foundation_type', 'roof_type',\n",
            "       'ground_floor_type', 'other_floor_type', 'position',\n",
            "       'plan_configuration', 'has_superstructure_adobe_mud',\n",
            "       'has_superstructure_mud_mortar_stone', 'has_superstructure_stone_flag',\n",
            "       'has_superstructure_cement_mortar_stone',\n",
            "       'has_superstructure_mud_mortar_brick',\n",
            "       'has_superstructure_cement_mortar_brick', 'has_superstructure_timber',\n",
            "       'has_superstructure_bamboo', 'has_superstructure_rc_non_engineered',\n",
            "       'has_superstructure_rc_engineered', 'has_superstructure_other',\n",
            "       'legal_ownership_status', 'count_families', 'has_secondary_use',\n",
            "       'has_secondary_use_agriculture', 'has_secondary_use_hotel',\n",
            "       'has_secondary_use_rental', 'has_secondary_use_institution',\n",
            "       'has_secondary_use_school', 'has_secondary_use_industry',\n",
            "       'has_secondary_use_health_post', 'has_secondary_use_gov_office',\n",
            "       'has_secondary_use_use_police', 'has_secondary_use_other',\n",
            "       'damage_grade'],\n",
            "      dtype='object')\n"
          ],
          "name": "stdout"
        },
        {
          "output_type": "stream",
          "text": [
            "/usr/local/lib/python3.6/dist-packages/ipykernel_launcher.py:46: SettingWithCopyWarning: \n",
            "A value is trying to be set on a copy of a slice from a DataFrame\n",
            "\n",
            "See the caveats in the documentation: https://pandas.pydata.org/pandas-docs/stable/user_guide/indexing.html#returning-a-view-versus-a-copy\n",
            "/usr/local/lib/python3.6/dist-packages/ipykernel_launcher.py:47: SettingWithCopyWarning: \n",
            "A value is trying to be set on a copy of a slice from a DataFrame\n",
            "\n",
            "See the caveats in the documentation: https://pandas.pydata.org/pandas-docs/stable/user_guide/indexing.html#returning-a-view-versus-a-copy\n"
          ],
          "name": "stderr"
        }
      ]
    },
    {
      "cell_type": "code",
      "metadata": {
        "id": "OF9nxS-JdxRl",
        "colab_type": "code",
        "colab": {
          "base_uri": "https://localhost:8080/",
          "height": 575
        },
        "outputId": "b3588994-0917-49f1-8ae3-f823b19199b2"
      },
      "source": [
        "''' X and y are the inputs and labels of the dataframe respectively.\n",
        "We will use X_train and Y_train for training the model\n",
        "X_train has 65 columns/features with 2,08,480 different rows/examples\n",
        "0 - No destruction\n",
        "1 - Destruction '''\n",
        "\n",
        "model_real = LogisticRegression()\n",
        "model_real.fit(X_train, y_train)\n",
        "score = model_real.score(X_test, y_test)\n",
        "print(\"*****************R E A L   A C C U R A C Y   S C O R E*******\", score)\n",
        "print(\"                        \")\n",
        "\n",
        "class LogisticRegressionRAY:\n",
        "    def __init__(self, learning_rate=0.01, epochs=1000, verbose=False):\n",
        "      self.learning_rate = learning_rate\n",
        "      self.epochs = epochs\n",
        "      self.verbose = verbose\n",
        "      self.w = None\n",
        "      self.b = None\n",
        "      self.cost_per_iteration = []\n",
        "\n",
        "    def sigmoid(self, z):\n",
        "      return 1/(1+np.exp(-z))\n",
        "\n",
        "    def loss(self, a, Y, m):\n",
        "      return (-1/m)*np.sum(Y*np.log(a) + (1-Y)*np.log(1-a))\n",
        "   \n",
        "    def fit(self, X, Y):\n",
        "      m, n = X.shape\n",
        "      #Forward propagatoin\n",
        "      self.w = np.zeros(n)\n",
        "      self.b = 0\n",
        "\n",
        "      for i in range(self.epochs):\n",
        "        z = np.dot(X, self.w) + self.b\n",
        "        a = self.sigmoid(z)\n",
        "        cost = self.loss(a, Y, m)\n",
        "\n",
        "        if i%500 ==0 and self.verbose==True:\n",
        "          self.cost_per_iteration.append(cost)\n",
        "          print(\"Number of Epochs: \",i,\" Cost: \",cost)\n",
        "        \n",
        "        #Backpropagation\n",
        "        dw = (np.dot(X.T, (a - Y)))/m #gradient of weight\n",
        "        db = (np.sum(a - Y)).mean()/m #gradient of bias\n",
        "        \n",
        "        #Updating weights\n",
        "        self.w = self.w - self.learning_rate*dw\n",
        "        self.b = self.b - self.learning_rate*db\n",
        "\n",
        "    def predict(self, X):\n",
        "        Z = np.dot(X, self.w) + self.b\n",
        "        y_hat = self.sigmoid(Z)\n",
        "        y_predicted_cls = [1 if i >= 0.5 else 0 for i in y_hat]\n",
        "        return y_predicted_cls\n",
        "\n",
        "    \n",
        "    def score(self, X, Y):\n",
        "      z = np.dot(X, self.w) + self.b\n",
        "      y_hat = self.sigmoid(z)\n",
        "      return (y_hat.round()==Y).mean()\n",
        "    \n",
        "model = LogisticRegressionRAY(learning_rate=0.01, epochs=5000, verbose=True)\n",
        "model.fit(X_train, y_train)\n",
        "y_pred = model.predict(X_train)\n",
        "score = model.score(X_test, y_test)\n",
        "\n",
        "confuse = confusion_matrix(y_train, y_pred)    \n",
        "sns.heatmap(pd.DataFrame(confuse), annot=True, cmap='viridis', fmt='g')\n",
        "plt.tight_layout()\n",
        "plt.xlabel('Predicted label')\n",
        "plt.ylabel('Actual label')\n",
        "plt.title('CONFUSION MATRIX')\n",
        "plt.show()\n",
        "\n",
        "print(\"M Y   M O D E L    S C O R E\", score)\n"
      ],
      "execution_count": 9,
      "outputs": [
        {
          "output_type": "stream",
          "text": [
            "*****************R E A L   A C C U R A C Y   S C O R E******* 0.9089618387981812\n",
            "                        \n",
            "Number of Epochs:  0  Cost:  0.6931471805599452\n",
            "Number of Epochs:  500  Cost:  0.3299410719223729\n",
            "Number of Epochs:  1000  Cost:  0.27205412456480643\n",
            "Number of Epochs:  1500  Cost:  0.25338669643920736\n",
            "Number of Epochs:  2000  Cost:  0.24530010577964836\n",
            "Number of Epochs:  2500  Cost:  0.2411613792440982\n",
            "Number of Epochs:  3000  Cost:  0.2388011973177519\n",
            "Number of Epochs:  3500  Cost:  0.23734740433672993\n",
            "Number of Epochs:  4000  Cost:  0.2363978583220311\n",
            "Number of Epochs:  4500  Cost:  0.23574806754421876\n"
          ],
          "name": "stdout"
        },
        {
          "output_type": "display_data",
          "data": {
            "image/png": "[encoded data removed]",
            "text/plain": [
              "<Figure size 432x288 with 2 Axes>"
            ]
          },
          "metadata": {
            "tags": []
          }
        },
        {
          "output_type": "stream",
          "text": [
            "M Y   M O D E L    S C O R E 0.9083095105619616\n"
          ],
          "name": "stdout"
        }
      ]
    },
    {
      "cell_type": "code",
      "metadata": {
        "id": "AkfTfi8rzUjH",
        "colab_type": "code",
        "colab": {}
      },
      "source": [
        ""
      ],
      "execution_count": null,
      "outputs": []
    },
    {
      "cell_type": "code",
      "metadata": {
        "id": "-LWyoMFFI5j8",
        "colab_type": "code",
        "colab": {}
      },
      "source": [
        ""
      ],
      "execution_count": null,
      "outputs": []
    },
    {
      "cell_type": "code",
      "metadata": {
        "id": "7B6UCi6SbemO",
        "colab_type": "code",
        "colab": {}
      },
      "source": [
        ""
      ],
      "execution_count": null,
      "outputs": []
    },
    {
      "cell_type": "code",
      "metadata": {
        "id": "3P1SJBMcpTvO",
        "colab_type": "code",
        "colab": {}
      },
      "source": [
        ""
      ],
      "execution_count": null,
      "outputs": []
    }
  ]
}